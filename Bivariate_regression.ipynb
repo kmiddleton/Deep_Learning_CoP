{
 "cells": [
  {
   "cell_type": "code",
   "execution_count": null,
   "metadata": {},
   "outputs": [],
   "source": [
    "import torch\n",
    "from torch.autograd import Variable\n",
    " \n",
    "x_data = Variable(torch.Tensor([[1.0], [2.0], [3.0]]))\n",
    "y_data = Variable(torch.Tensor([[2.0], [4.0], [6.0]]))\n",
    " \n",
    "\n",
    "class LinearRegressionModel(torch.nn.Module):\n",
    " \n",
    "    def __init__(self):\n",
    "        super(LinearRegressionModel, self).__init__()\n",
    "        self.linear = torch.nn.Linear(1, 1)  \n",
    " \n",
    "    def forward(self, x):\n",
    "        y_pred = self.linear(x)\n",
    "        return y_pred\n",
    " \n",
    "our_model = LinearRegressionModel()\n",
    " \n",
    "criterion = torch.nn.MSELoss(size_average = False)\n",
    "optimizer = torch.optim.SGD(our_model.parameters(), lr = 0.01)\n",
    " \n",
    "for epoch in range(5000):\n",
    "    pred_y = our_model(x_data)\n",
    "    loss = criterion(pred_y, y_data)\n",
    "    \n",
    "    optimizer.zero_grad()\n",
    "    loss.backward()\n",
    "    optimizer.step()\n",
    "    if (epoch + 1) % 100 == 0:\n",
    "        print('epoch {}, loss {}'.format(epoch, loss.item()))\n",
    " \n",
    "new_var = Variable(torch.Tensor([[4.0]]))\n",
    "pred_y = our_model(new_var)\n",
    "print(\"predict (after training)\", 4, our_model(new_var).item())"
   ]
  }
 ],
 "metadata": {
  "kernelspec": {
   "display_name": "torch",
   "language": "python",
   "name": "python3"
  },
  "language_info": {
   "codemirror_mode": {
    "name": "ipython",
    "version": 3
   },
   "file_extension": ".py",
   "mimetype": "text/x-python",
   "name": "python",
   "nbconvert_exporter": "python",
   "pygments_lexer": "ipython3",
   "version": "3.9.16"
  }
 },
 "nbformat": 4,
 "nbformat_minor": 2
}
