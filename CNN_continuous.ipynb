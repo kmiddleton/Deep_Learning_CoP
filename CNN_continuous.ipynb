{
 "cells": [
  {
   "cell_type": "code",
   "execution_count": 1,
   "metadata": {},
   "outputs": [],
   "source": [
    "import numpy as np\n",
    "import torchvision.models.segmentation\n",
    "import torch\n",
    "import torchvision.transforms as tf\n",
    "import matplotlib.pyplot as plt"
   ]
  },
  {
   "cell_type": "code",
   "execution_count": 2,
   "metadata": {},
   "outputs": [],
   "source": [
    "Learning_Rate = 1e-5\n",
    "width = height = 200 # image width and height\n",
    "batchSize = 1"
   ]
  },
  {
   "cell_type": "markdown",
   "metadata": {},
   "source": [
    "# Create training image"
   ]
  },
  {
   "cell_type": "code",
   "execution_count": 3,
   "metadata": {},
   "outputs": [],
   "source": [
    "def ReadRandomImage(): \n",
    "    FillLevel=np.random.random() # Set random fill level\n",
    "    Img=np.zeros([900,900,3],np.uint8) # Create black image \n",
    "    Img[0:int(FillLevel*900),:]=255 # Fill the image with white up to FillLevel\n",
    "    \n",
    "    transformImg=tf.Compose([tf.ToPILImage(), tf.Resize((height,width)), tf.ToTensor(), tf.Normalize((0.485, 0.456, 0.406), (0.229, 0.224, 0.225))]) \n",
    "    Img=transformImg(Img) # Transform to pytorch\n",
    "    return Img,FillLevel"
   ]
  },
  {
   "cell_type": "code",
   "execution_count": null,
   "metadata": {},
   "outputs": [],
   "source": [
    "fig, axes = plt.subplots(5, 5, figsize=(10, 10))\n",
    "\n",
    "for i in range(5):\n",
    "  for j in range(5):\n",
    "    image, fill_level = ReadRandomImage()\n",
    "    image_np = image.permute(1, 2, 0).numpy()  # Convert to numpy array and change dimensions for plotting\n",
    "    image_np = (image_np * np.array([0.229, 0.224, 0.225]) + np.array([0.485, 0.456, 0.406])).clip(0, 1)  # Denormalize and clip to valid range\n",
    "    axes[i, j].imshow(image_np)\n",
    "    axes[i, j].axis('off')\n",
    "\n",
    "plt.show()\n"
   ]
  },
  {
   "cell_type": "markdown",
   "metadata": {},
   "source": [
    "# Load batch of images"
   ]
  },
  {
   "cell_type": "code",
   "execution_count": 16,
   "metadata": {},
   "outputs": [],
   "source": [
    "def LoadBatch(): # Load batch of images\n",
    "    images = torch.zeros([batchSize, 3, height, width])\n",
    "    FillLevel = torch.zeros([batchSize])\n",
    "    for i in range(batchSize):\n",
    "        images[i], FillLevel[i] = ReadRandomImage()\n",
    "    return images, FillLevel"
   ]
  },
  {
   "cell_type": "markdown",
   "metadata": {},
   "source": [
    "# Load and set net and optimizer"
   ]
  },
  {
   "cell_type": "code",
   "execution_count": 17,
   "metadata": {},
   "outputs": [],
   "source": [
    "device = torch.device('cuda') if torch.cuda.is_available() else torch.device('cpu') # Set device GPU or CPU where the training will take place\n",
    "Net = torchvision.models.resnet18(weights=torchvision.models.ResNet18_Weights.DEFAULT)  # Load net with default weights\n",
    "Net.fc = torch.nn.Linear(in_features=512, out_features=1, bias=True)  # Change final layer to predict one value\n",
    "Net = Net.to(device)\n",
    "\n",
    "optimizer = torch.optim.Adam(params=Net.parameters(), lr=Learning_Rate)  # Create adam optimizer\n",
    "scheduler = torch.optim.lr_scheduler.StepLR(optimizer, step_size=10000, gamma=0.1)  # Adaptive learning rate scheduler\n"
   ]
  },
  {
   "cell_type": "markdown",
   "metadata": {},
   "source": [
    "# Train"
   ]
  },
  {
   "cell_type": "code",
   "execution_count": null,
   "metadata": {},
   "outputs": [],
   "source": [
    "AverageLoss = np.zeros([50])  # Save average loss for display\n",
    "all_losses = []  # List to keep track of all losses\n",
    "\n",
    "for itr in range(100001):  # Training loop\n",
    "  images, GTFillLevel = LoadBatch()  # Load training batch\n",
    "  images = torch.autograd.Variable(images, requires_grad = False).to(device)  # Load image\n",
    "  GTFillLevel = torch.autograd.Variable(GTFillLevel, requires_grad = False).to(device)  # Load Ground truth fill level\n",
    "  PredLevel = Net(images)  # Make prediction\n",
    "  Net.zero_grad()\n",
    "  Loss = torch.abs(PredLevel - GTFillLevel).mean()\n",
    "  Loss.backward()  # Backpropagate loss\n",
    "  optimizer.step()  # Apply gradient descent change to weight\n",
    "  scheduler.step()  # Update learning rate\n",
    "  AverageLoss[itr % 50] = Loss.data.cpu().numpy()  # Save loss average\n",
    "  all_losses.append(Loss.data.cpu().numpy())  # Keep track of all losses\n",
    "\n",
    "  if itr % 5000 == 0:\n",
    "    print(f\"{itr})\\tLoss = {Loss.data.cpu().numpy():.5f} AverageLoss = {AverageLoss.mean():.5f}\")  # Display loss\n",
    "    print(f\"Learning Rate = {scheduler.get_last_lr()[0]:.5e}\")  # Print learning rate\n",
    "\n",
    "  if itr % 50000 == 0:  # Save model\n",
    "    print(\"Saving Model\" + str(itr) + \".torch\")  # Save model weight\n",
    "    torch.save(Net.state_dict(), str(itr) + \".torch\")\n"
   ]
  },
  {
   "cell_type": "code",
   "execution_count": null,
   "metadata": {
    "vscode": {
     "languageId": "javascript"
    }
   },
   "outputs": [],
   "source": [
    "plt.figure(figsize=(10, 5))\n",
    "\n",
    "selected_losses = all_losses[100::1000]\n",
    "plt.plot(selected_losses, label='Loss')\n",
    "plt.xlabel('Iteration (x1000)')\n",
    "plt.ylabel('Loss')\n",
    "plt.title('Loss Across Iterations')\n",
    "plt.legend()\n",
    "plt.show()"
   ]
  },
  {
   "cell_type": "code",
   "execution_count": null,
   "metadata": {},
   "outputs": [],
   "source": [
    "# Generate 1000 new images and test the trained model\n",
    "test_images = torch.zeros([1000, 3, height, width])\n",
    "test_fill_levels = torch.zeros([1000])\n",
    "\n",
    "for i in range(1000):\n",
    "  test_images[i], test_fill_levels[i] = ReadRandomImage()\n",
    "\n",
    "test_images = test_images.to(device)\n",
    "test_fill_levels = test_fill_levels.to(device)\n",
    "\n",
    "# Set the model to evaluation mode\n",
    "Net.eval()\n",
    "\n",
    "with torch.no_grad():\n",
    "  predicted_levels = Net(test_images)\n",
    "\n",
    "# Calculate the mean absolute error on the test set\n",
    "mae = torch.abs(predicted_levels - test_fill_levels).mean().item()\n",
    "print(f\"Mean Absolute Error on test set: {mae:.5f}\")"
   ]
  }
 ],
 "metadata": {
  "kernelspec": {
   "display_name": "Python 3",
   "language": "python",
   "name": "python3"
  },
  "language_info": {
   "codemirror_mode": {
    "name": "ipython",
    "version": 3
   },
   "file_extension": ".py",
   "mimetype": "text/x-python",
   "name": "python",
   "nbconvert_exporter": "python",
   "pygments_lexer": "ipython3",
   "version": "3.11.9"
  }
 },
 "nbformat": 4,
 "nbformat_minor": 2
}
