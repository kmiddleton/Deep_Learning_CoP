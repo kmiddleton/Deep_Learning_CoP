{
 "cells": [
  {
   "cell_type": "markdown",
   "metadata": {},
   "source": [
    "## Setup"
   ]
  },
  {
   "cell_type": "code",
   "execution_count": null,
   "metadata": {},
   "outputs": [],
   "source": [
    "import numpy as np\n",
    "import matplotlib.pyplot as plt\n",
    "import pandas as pd\n",
    "import statsmodels.formula.api as sm\n",
    "import seaborn as sns\n",
    "import torch\n",
    "import torch.nn as nn\n",
    "from sklearn.preprocessing import OneHotEncoder\n"
   ]
  },
  {
   "cell_type": "markdown",
   "metadata": {},
   "source": [
    "## Data"
   ]
  },
  {
   "cell_type": "code",
   "execution_count": null,
   "metadata": {},
   "outputs": [],
   "source": [
    "url = 'https://raw.githubusercontent.com/Middleton-Lab/abdData/main/inst/extdata/datasets/18/18e4MoleRatLayabouts.csv'\n",
    "\n",
    "# Read the CSV file with a specific delimiter and encoding\n",
    "df = pd.read_csv(url, delimiter = ',', encoding = 'utf-8')\n",
    "df.rename(columns = {'ln.energy': 'log_energy', 'ln.mass': 'log_mass'}, inplace = True)\n",
    "\n",
    "# Display the first few rows of the DataFrame\n",
    "df.head()"
   ]
  },
  {
   "cell_type": "code",
   "execution_count": null,
   "metadata": {},
   "outputs": [],
   "source": [
    "plt.figure(figsize=(10, 5))\n",
    "sns.scatterplot(data=df, x='log_mass', y='log_energy', hue='caste')\n",
    "plt.show()"
   ]
  },
  {
   "cell_type": "markdown",
   "metadata": {},
   "source": [
    "## Regression of caste and log mass on log energy using `statsmodels`"
   ]
  },
  {
   "cell_type": "code",
   "execution_count": null,
   "metadata": {},
   "outputs": [],
   "source": [
    "model_ols = sm.ols(\"log_energy ~ caste + log_mass\", data = df).fit()\n",
    "\n",
    "print(model_ols.summary())"
   ]
  },
  {
   "cell_type": "markdown",
   "metadata": {},
   "source": [
    "```\n",
    "Call:\n",
    "lm(formula = ln.energy ~ caste + ln.mass, data = D)\n",
    "\n",
    "Residuals:\n",
    "     Min       1Q   Median       3Q      Max\n",
    "-0.73388 -0.19371  0.01317  0.17578  0.47673\n",
    "\n",
    "Coefficients:\n",
    "            Estimate Std. Error t value Pr(>|t|)\n",
    "(Intercept) -0.09687    0.94230  -0.103   0.9188\n",
    "casteworker  0.39334    0.14611   2.692   0.0112 *\n",
    "ln.mass      0.89282    0.19303   4.625 5.89e-05 ***\n",
    "---\n",
    "Signif. codes:  0 ‘***’ 0.001 ‘**’ 0.01 ‘*’ 0.05 ‘.’ 0.1 ‘ ’ 1\n",
    "\n",
    "Residual standard error: 0.2966 on 32 degrees of freedom\n",
    "Multiple R-squared:  0.409,\tAdjusted R-squared:  0.3721\n",
    "F-statistic: 11.07 on 2 and 32 DF,  p-value: 0.0002213\n",
    "```"
   ]
  },
  {
   "cell_type": "markdown",
   "metadata": {},
   "source": [
    "## Format data for NN"
   ]
  },
  {
   "cell_type": "markdown",
   "metadata": {},
   "source": [
    "## Define the loss function and optimizer"
   ]
  },
  {
   "cell_type": "markdown",
   "metadata": {},
   "source": [
    "## Train the model"
   ]
  },
  {
   "cell_type": "code",
   "execution_count": null,
   "metadata": {},
   "outputs": [],
   "source": [
    "# Numeric feature\n",
    "x1 = df['log_mass'].values.reshape(-1, 1)"
   ]
  },
  {
   "cell_type": "code",
   "execution_count": null,
   "metadata": {},
   "outputs": [],
   "source": [
    "# Categorical feature\n",
    "# Encode the categorical feature\n",
    "encoder = OneHotEncoder(sparse_output = False)\n",
    "x2_encoded = encoder.fit_transform(df['caste'].values.reshape(-1, 1))\n",
    "\n",
    "# Combine features\n",
    "X = np.hstack((x1, x2_encoded))"
   ]
  },
  {
   "cell_type": "code",
   "execution_count": null,
   "metadata": {},
   "outputs": [],
   "source": [
    "# Target variable\n",
    "y = df['log_energy'].values.reshape(-1, 1)"
   ]
  },
  {
   "cell_type": "code",
   "execution_count": null,
   "metadata": {},
   "outputs": [],
   "source": [
    "# Convert to PyTorch tensors\n",
    "X_tensor = torch.tensor(X, dtype = torch.float32)\n",
    "y_tensor = torch.tensor(y, dtype = torch.float32)"
   ]
  },
  {
   "cell_type": "code",
   "execution_count": null,
   "metadata": {},
   "outputs": [],
   "source": [
    "# Step 2: Define the model\n",
    "class MultipleRegressionModel(nn.Module):\n",
    "    def __init__(self):\n",
    "        super(MultipleRegressionModel, self).__init__()\n",
    "        self.linear = nn.Linear(3, 1)  # Input dimension is 3 (x1, x2_encoded), output dimension is 1\n",
    "\n",
    "    def forward(self, x):\n",
    "        return self.linear(x)\n",
    "\n",
    "model = MultipleRegressionModel()\n",
    "\n",
    "# Step 3: Define the loss function and optimizer\n",
    "criterion = nn.MSELoss()\n",
    "optimizer = torch.optim.SGD(model.parameters(), lr=0.001)"
   ]
  },
  {
   "cell_type": "code",
   "execution_count": null,
   "metadata": {},
   "outputs": [],
   "source": [
    "# Step 4: Train the model\n",
    "num_epochs = 1000\n",
    "loss_values = []  # List to store loss values\n",
    "\n",
    "for epoch in range(num_epochs):\n",
    "    model.train()\n",
    "    \n",
    "    # Forward pass\n",
    "    outputs = model(X_tensor)\n",
    "    loss = criterion(outputs, y_tensor)\n",
    "    \n",
    "    # Backward pass and optimization\n",
    "    optimizer.zero_grad()\n",
    "    loss.backward()\n",
    "    optimizer.step()\n",
    "    \n",
    "    if (epoch + 1) % 100 == 0:\n",
    "        print(f'Epoch [{epoch + 1}/{num_epochs}], Loss: {loss.item():.4f}')\n",
    "    \n",
    "    # Store loss value\n",
    "    loss_values.append(np.log(loss.item()))\n"
   ]
  },
  {
   "cell_type": "code",
   "execution_count": null,
   "metadata": {},
   "outputs": [],
   "source": [
    "plt.figure(figsize=(10, 5))\n",
    "ax = sns.lineplot(x = range(1, num_epochs + 1), y = loss_values, color = \"darkred\")\n",
    "ax.set_xlabel('Epoch')\n",
    "ax.set_ylabel('log Loss')\n",
    "ax.set_title('Training Loss')\n",
    "plt.show()"
   ]
  },
  {
   "cell_type": "code",
   "execution_count": null,
   "metadata": {},
   "outputs": [],
   "source": [
    "plt.figure(figsize = (10, 5))\n",
    "plt.plot(range(1, num_epochs + 1), loss_values)\n",
    "plt.xlabel('Epoch')\n",
    "plt.ylabel('log-Loss')\n",
    "plt.title('log-Loss vs. Epoch')\n",
    "plt.show()"
   ]
  },
  {
   "cell_type": "markdown",
   "metadata": {},
   "source": [
    "## Predictions"
   ]
  },
  {
   "cell_type": "code",
   "execution_count": null,
   "metadata": {},
   "outputs": [],
   "source": [
    "model.eval()\n",
    "predicted = model(X_tensor).detach().numpy()"
   ]
  },
  {
   "cell_type": "code",
   "execution_count": null,
   "metadata": {},
   "outputs": [],
   "source": [
    "df['predicted_energy'] = predicted\n",
    "\n",
    "plt.figure(figsize = (10, 5))\n",
    "ax = sns.scatterplot(data = df, x = 'log_mass', y = 'log_energy', hue = 'caste')\n",
    "sns.scatterplot(data = df, x = 'log_mass', y = 'predicted_energy', hue = 'caste', ax = ax, marker = 'x')\n",
    "plt.legend()\n",
    "plt.show()"
   ]
  }
 ],
 "metadata": {
  "kernelspec": {
   "display_name": "torch",
   "language": "python",
   "name": "python3"
  },
  "language_info": {
   "codemirror_mode": {
    "name": "ipython",
    "version": 3
   },
   "file_extension": ".py",
   "mimetype": "text/x-python",
   "name": "python",
   "nbconvert_exporter": "python",
   "pygments_lexer": "ipython3",
   "version": "3.9.16"
  }
 },
 "nbformat": 4,
 "nbformat_minor": 2
}
