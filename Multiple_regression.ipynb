{
 "cells": [
  {
   "cell_type": "markdown",
   "metadata": {},
   "source": [
    "## Setup"
   ]
  },
  {
   "cell_type": "code",
   "execution_count": 1,
   "metadata": {},
   "outputs": [],
   "source": [
    "import numpy as np\n",
    "import pandas as pd\n",
    "import statsmodels.formula.api as sm\n",
    "import torch\n",
    "import torch.nn as nn\n",
    "from sklearn.preprocessing import OneHotEncoder\n",
    "import plotnine as p9\n",
    "import ssl\n",
    "\n",
    "ssl._create_default_https_context = ssl._create_unverified_context"
   ]
  },
  {
   "cell_type": "markdown",
   "metadata": {},
   "source": [
    "## Data"
   ]
  },
  {
   "cell_type": "code",
   "execution_count": null,
   "metadata": {},
   "outputs": [],
   "source": [
    "url = 'https://raw.githubusercontent.com/Middleton-Lab/abdData/main/inst/extdata/datasets/18/18e4MoleRatLayabouts.csv'\n",
    "\n",
    "# Read the CSV file with a specific delimiter and encoding\n",
    "df = pd.read_csv(url, delimiter = ',', encoding = 'utf-8')\n",
    "df.rename(columns = {'ln.energy': 'log_energy', 'ln.mass': 'log_mass'},\n",
    "          inplace = True)\n",
    "\n",
    "# Display the first few rows\n",
    "df.head()"
   ]
  },
  {
   "cell_type": "code",
   "execution_count": null,
   "metadata": {},
   "outputs": [],
   "source": [
    "p = (p9.ggplot() +\n",
    "    p9.geom_point(df,\n",
    "                  p9.aes(x = 'log_mass', y = 'log_energy', color = 'caste'),\n",
    "                  size = 3, alpha = 0.5) +\n",
    "    p9.scale_color_manual(values = ['firebrick', 'darkblue'], name = \"Group\") +\n",
    "    p9.labs(x = 'log Mass', y = 'log Energy') +\n",
    "    p9.theme_classic() +\n",
    "    p9.theme(figure_size = (8, 5)))\n",
    "p.show()"
   ]
  },
  {
   "cell_type": "markdown",
   "metadata": {},
   "source": [
    "## Regression of caste and log mass on log energy using `statsmodels`"
   ]
  },
  {
   "cell_type": "code",
   "execution_count": 4,
   "metadata": {},
   "outputs": [],
   "source": [
    "model_ols = sm.ols(\"log_energy ~ caste + log_mass\", data = df).fit()\n",
    "# model_ols.model.exog"
   ]
  },
  {
   "cell_type": "code",
   "execution_count": null,
   "metadata": {},
   "outputs": [],
   "source": [
    "print(model_ols.summary())"
   ]
  },
  {
   "cell_type": "markdown",
   "metadata": {},
   "source": [
    "## R for comparison"
   ]
  },
  {
   "cell_type": "markdown",
   "metadata": {},
   "source": [
    "```\n",
    "Call:\n",
    "lm(formula = ln.energy ~ caste + ln.mass, data = D)\n",
    "\n",
    "Residuals:\n",
    "     Min       1Q   Median       3Q      Max\n",
    "-0.73388 -0.19371  0.01317  0.17578  0.47673\n",
    "\n",
    "Coefficients:\n",
    "            Estimate Std. Error t value Pr(>|t|)\n",
    "(Intercept) -0.09687    0.94230  -0.103   0.9188\n",
    "casteworker  0.39334    0.14611   2.692   0.0112 *\n",
    "ln.mass      0.89282    0.19303   4.625 5.89e-05 ***\n",
    "---\n",
    "Signif. codes:  0 ‘***’ 0.001 ‘**’ 0.01 ‘*’ 0.05 ‘.’ 0.1 ‘ ’ 1\n",
    "\n",
    "Residual standard error: 0.2966 on 32 degrees of freedom\n",
    "Multiple R-squared:  0.409,\tAdjusted R-squared:  0.3721\n",
    "F-statistic: 11.07 on 2 and 32 DF,  p-value: 0.0002213\n",
    "```"
   ]
  },
  {
   "cell_type": "markdown",
   "metadata": {},
   "source": [
    "## Train the model"
   ]
  },
  {
   "cell_type": "code",
   "execution_count": null,
   "metadata": {},
   "outputs": [],
   "source": [
    "# Numeric feature\n",
    "x1 = df['log_mass'].values.reshape(-1, 1)\n",
    "x1.shape"
   ]
  },
  {
   "cell_type": "markdown",
   "metadata": {},
   "source": [
    "Encoding categorical variables"
   ]
  },
  {
   "cell_type": "code",
   "execution_count": null,
   "metadata": {},
   "outputs": [],
   "source": [
    "# Categorical feature\n",
    "# Encode the categorical feature\n",
    "encoder = OneHotEncoder(sparse_output = False)\n",
    "x2_encoded = encoder.fit_transform(df['caste'].values.reshape(-1, 1))\n",
    "\n",
    "# Combine features\n",
    "X = np.hstack((x1, x2_encoded))\n",
    "X.shape"
   ]
  },
  {
   "cell_type": "markdown",
   "metadata": {},
   "source": [
    "Reshaping the outcome variable"
   ]
  },
  {
   "cell_type": "code",
   "execution_count": null,
   "metadata": {},
   "outputs": [],
   "source": [
    "# Target variable\n",
    "y = df['log_energy'].values.reshape(-1, 1)\n",
    "y.shape"
   ]
  },
  {
   "cell_type": "markdown",
   "metadata": {},
   "source": [
    "Convert to PyTorch tensors"
   ]
  },
  {
   "cell_type": "code",
   "execution_count": 9,
   "metadata": {},
   "outputs": [],
   "source": [
    "X_tensor = torch.tensor(X, dtype = torch.float32)\n",
    "y_tensor = torch.tensor(y, dtype = torch.float32)"
   ]
  },
  {
   "cell_type": "markdown",
   "metadata": {},
   "source": [
    "Define the model"
   ]
  },
  {
   "cell_type": "code",
   "execution_count": 10,
   "metadata": {},
   "outputs": [],
   "source": [
    "class MultipleRegressionModel(nn.Module):\n",
    "    def __init__(self):\n",
    "        super(MultipleRegressionModel, self).__init__()\n",
    "        self.linear = nn.Linear(3, 1)  # Input dimension is 3 (x1, x2_encoded),\n",
    "                                       # output dimension is 1\n",
    "\n",
    "    def forward(self, x):\n",
    "        return self.linear(x)\n",
    "\n",
    "model = MultipleRegressionModel()\n",
    "\n",
    "# Step 3: Define the loss function and optimizer\n",
    "criterion = nn.MSELoss()\n",
    "optimizer = torch.optim.SGD(model.parameters(), lr = 0.001)"
   ]
  },
  {
   "cell_type": "markdown",
   "metadata": {},
   "source": [
    "Train the model"
   ]
  },
  {
   "cell_type": "code",
   "execution_count": null,
   "metadata": {},
   "outputs": [],
   "source": [
    "num_epochs = 1000\n",
    "loss_values = []  # List to store loss values\n",
    "\n",
    "for epoch in range(num_epochs):\n",
    "    model.train()\n",
    "    \n",
    "    # Forward pass\n",
    "    outputs = model(X_tensor)\n",
    "    loss = criterion(outputs, y_tensor)\n",
    "    \n",
    "    # Backward pass and optimization\n",
    "    optimizer.zero_grad()\n",
    "    loss.backward()\n",
    "    optimizer.step()\n",
    "    \n",
    "    # zero grad before new step\n",
    "    optimizer.zero_grad()\n",
    "\n",
    "    if (epoch + 1) % 100 == 0:\n",
    "        print(f'Epoch [{epoch + 1}/{num_epochs}], Loss: {loss.item():.4f}')\n",
    "    \n",
    "    # Store loss value\n",
    "    loss_values.append(np.log(loss.item()))"
   ]
  },
  {
   "cell_type": "markdown",
   "metadata": {},
   "source": [
    "Plot loss by epoch"
   ]
  },
  {
   "cell_type": "code",
   "execution_count": null,
   "metadata": {},
   "outputs": [],
   "source": [
    "p2 = (p9.ggplot(p9.aes(x = range(1, num_epochs + 1), y = loss_values)) +\n",
    "      p9.geom_line(size = 1, color = 'firebrick') +\n",
    "      p9.labs(x = 'Epoch', y = 'log Loss') +\n",
    "      p9.theme_classic() +\n",
    "      p9.theme(figure_size = (8, 5)))\n",
    "p2.show()"
   ]
  },
  {
   "cell_type": "markdown",
   "metadata": {},
   "source": [
    "## Predictions"
   ]
  },
  {
   "cell_type": "markdown",
   "metadata": {},
   "source": [
    "OLS model"
   ]
  },
  {
   "cell_type": "code",
   "execution_count": 13,
   "metadata": {},
   "outputs": [],
   "source": [
    "pred_ols = model_ols.predict(df)\n",
    "df['predicted_ols'] = pred_ols"
   ]
  },
  {
   "cell_type": "markdown",
   "metadata": {},
   "source": [
    "NN model"
   ]
  },
  {
   "cell_type": "code",
   "execution_count": 14,
   "metadata": {},
   "outputs": [],
   "source": [
    "model.eval()\n",
    "predicted = model(X_tensor).detach().numpy()\n",
    "df['predicted_NN'] = predicted"
   ]
  },
  {
   "cell_type": "code",
   "execution_count": null,
   "metadata": {},
   "outputs": [],
   "source": [
    "p3 = p + [p9.geom_point(p9.aes(x ='log_mass',\n",
    "                                y = 'predicted_NN',\n",
    "                                color = 'caste'),\n",
    "                        data = df, shape = 'x', size = 4),\n",
    "          p9.geom_point(p9.aes(x ='log_mass', \n",
    "                                y = 'predicted_ols',\n",
    "                                color = 'caste'),\n",
    "                        data = df, shape = 'o', size = 4)]\n",
    "p3.show()"
   ]
  },
  {
   "cell_type": "markdown",
   "metadata": {},
   "source": [
    "## Interaction model"
   ]
  },
  {
   "cell_type": "code",
   "execution_count": 18,
   "metadata": {},
   "outputs": [],
   "source": [
    "# df2 has the model matrix hard coded\n",
    "df2 = pd.read_csv('molerats.csv')\n",
    "\n",
    "# Outcome\n",
    "y = df2['log_energy'].values.reshape(-1, 1)\n",
    "\n",
    "# Model matrix for interaction model with intercept\n",
    "X = df2.iloc[:, 0:4].values\n",
    "\n",
    "# Convert to PyTorch tensors\n",
    "X_tensor = torch.tensor(X, dtype = torch.float32)\n",
    "y_tensor = torch.tensor(y, dtype = torch.float32)"
   ]
  },
  {
   "cell_type": "code",
   "execution_count": null,
   "metadata": {},
   "outputs": [],
   "source": [
    "# Define the model\n",
    "class MultipleRegressionModel(nn.Module):\n",
    "    def __init__(self):\n",
    "        super(MultipleRegressionModel, self).__init__()\n",
    "        self.linear = nn.Linear(4, 1)  # Input dimension is 4, output dimension is 1\n",
    "\n",
    "    def forward(self, x):\n",
    "        return self.linear(x)\n",
    "\n",
    "model = MultipleRegressionModel()\n",
    "\n",
    "# Define the loss function and optimizer\n",
    "criterion = nn.MSELoss()\n",
    "optimizer = torch.optim.SGD(model.parameters(), lr=0.001)\n",
    "\n",
    "# Train the model\n",
    "num_epochs = 1000\n",
    "loss_values = []  # List to store loss values\n",
    "\n",
    "for epoch in range(num_epochs):\n",
    "    model.train()\n",
    "    \n",
    "    # Forward pass\n",
    "    outputs = model(X_tensor)\n",
    "    loss = criterion(outputs, y_tensor)\n",
    "    \n",
    "    # Backward pass and optimization\n",
    "    optimizer.zero_grad()\n",
    "    loss.backward()\n",
    "    optimizer.step()\n",
    "    \n",
    "    # zero grad before new step\n",
    "    optimizer.zero_grad()\n",
    "\n",
    "    if (epoch + 1) % 100 == 0:\n",
    "        print(f'Epoch [{epoch + 1}/{num_epochs}], Loss: {loss.item():.4f}')\n",
    "    \n",
    "    # Store loss value\n",
    "    loss_values.append(np.log(loss.item()))\n",
    "\n",
    "p4 = (p9.ggplot(p9.aes(x = range(1, num_epochs + 1), y = loss_values)) +\n",
    "      p9.geom_line(size = 1, color = 'firebrick') +\n",
    "      p9.labs(x = 'Epoch', y = 'log Loss') +\n",
    "      p9.theme_classic() +\n",
    "      p9.theme(figure_size = (8, 5)))\n",
    "p4.show()"
   ]
  },
  {
   "cell_type": "code",
   "execution_count": null,
   "metadata": {},
   "outputs": [],
   "source": [
    "model.eval()\n",
    "predicted = model(X_tensor).detach().numpy()\n",
    "df['predicted_NN2'] = predicted\n",
    "\n",
    "p3 + [p9.geom_point(p9.aes(x = 'log_mass', y = 'predicted_NN2',\n",
    "                            color = 'caste'),\n",
    "                    data = df, shape = '+', size = 4)]"
   ]
  }
 ],
 "metadata": {
  "kernelspec": {
   "display_name": "torch",
   "language": "python",
   "name": "python3"
  },
  "language_info": {
   "codemirror_mode": {
    "name": "ipython",
    "version": 3
   },
   "file_extension": ".py",
   "mimetype": "text/x-python",
   "name": "python",
   "nbconvert_exporter": "python",
   "pygments_lexer": "ipython3",
   "version": "3.11.9"
  }
 },
 "nbformat": 4,
 "nbformat_minor": 2
}
