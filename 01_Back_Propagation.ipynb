{
 "cells": [
  {
   "cell_type": "code",
   "execution_count": null,
   "metadata": {},
   "outputs": [],
   "source": [
    "# Setup\n",
    "\n",
    "# Windows\n",
    "# conda install numpy matplotlib pytorch torchvision torchaudio pytorch-cuda=11.8 -c pytorch -c nvidia\n",
    "# pip install graphviz\n",
    "\n",
    "# MacOS\n",
    "# conda install numpy matplotlib pytorch::pytorch torchvision torchaudio -c pytorch\n",
    "# pip install graphviz\n",
    "\n",
    "# Ubuntu\n",
    "# conda install numpy matplotlib pytorch torchvision torchaudio cpuonly -c pytorch\n",
    "# pip install graphviz\n"
   ]
  }
 ],
 "metadata": {
  "language_info": {
   "name": "python"
  }
 },
 "nbformat": 4,
 "nbformat_minor": 2
}
