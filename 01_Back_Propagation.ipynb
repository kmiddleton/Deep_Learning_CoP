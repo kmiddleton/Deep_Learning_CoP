{
 "cells": [
  {
   "cell_type": "code",
   "execution_count": null,
   "metadata": {},
   "outputs": [],
   "source": [
    "# Setup\n",
    "\n",
    "# Windows\n",
    "# conda install numpy matplotlib pytorch torchvision torchaudio pytorch-cuda=11.8 -c pytorch -c nvidia\n",
    "# pip install graphviz\n",
    "\n",
    "# MacOS\n",
    "# conda install numpy matplotlib pytorch::pytorch torchvision torchaudio -c pytorch\n",
    "# pip install graphviz\n",
    "\n",
    "# Ubuntu\n",
    "# conda install numpy matplotlib pytorch torchvision torchaudio cpuonly -c pytorch\n",
    "# pip install graphviz\n"
   ]
  }
 ],
 "metadata": {
  "kernelspec": {
   "display_name": "deeplearn",
   "language": "python",
   "name": "python3"
  },
  "language_info": {
   "name": "python",
   "version": "3.11.9"
  }
 },
 "nbformat": 4,
 "nbformat_minor": 2
}
