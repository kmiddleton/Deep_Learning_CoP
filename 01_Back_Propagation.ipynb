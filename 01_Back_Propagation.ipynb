{
 "cells": [
  {
   "cell_type": "code",
   "execution_count": 1,
   "metadata": {},
   "outputs": [],
   "source": [
    "# Setup\n",
    "\n",
    "# Windows\n",
    "# conda install numpy matplotlib pytorch torchvision torchaudio pytorch-cuda=11.8 -c pytorch -c nvidia\n",
    "# pip install graphviz\n",
    "\n",
    "# MacOS\n",
    "# conda install numpy matplotlib pytorch::pytorch torchvision torchaudio -c pytorch\n",
    "# pip install graphviz\n",
    "\n",
    "# Ubuntu\n",
    "# conda install numpy matplotlib pytorch torchvision torchaudio cpuonly -c pytorch\n",
    "# pip install graphviz\n",
    "\n",
    "# conda create --name deeplearn python=3.11 ipython ipykernel numpy matplotlib pytorch torchvision torchaudio cpuonly -c pytorch"
   ]
  }
 ],
 "metadata": {
  "kernelspec": {
   "display_name": "deeplearn",
   "language": "python",
   "name": "python3"
  },
  "language_info": {
   "codemirror_mode": {
    "name": "ipython",
    "version": 3
   },
   "file_extension": ".py",
   "mimetype": "text/x-python",
   "name": "python",
   "nbconvert_exporter": "python",
   "pygments_lexer": "ipython3",
   "version": "3.11.6"
  }
 },
 "nbformat": 4,
 "nbformat_minor": 2
}
